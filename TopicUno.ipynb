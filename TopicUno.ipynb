{
 "cells": [
  {
   "cell_type": "markdown",
   "metadata": {},
   "source": [
    "# DATA ANALYSIS\n",
    "\n",
    "Involves inspecing/cleaning/modelling data to get sth concrete. We using PYTHON for this...[simple/free/powerful libraries]\n",
    "\n",
    "Extraction -> Cleaning -> Rearranging -> Analysis -> Action\n"
   ]
  },
  {
   "cell_type": "code",
   "execution_count": null,
   "metadata": {},
   "outputs": [],
   "source": [
    "https://github.com/kammy04/data_analysis"
   ]
  }
 ],
 "metadata": {
  "language_info": {
   "name": "python"
  }
 },
 "nbformat": 4,
 "nbformat_minor": 2
}
